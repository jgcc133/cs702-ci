{
 "cells": [
  {
   "cell_type": "code",
   "execution_count": 1,
   "metadata": {},
   "outputs": [
    {
     "name": "stdout",
     "output_type": "stream",
     "text": [
      "^C\n"
     ]
    },
    {
     "ename": "AssertionError",
     "evalue": "",
     "output_type": "error",
     "traceback": [
      "\u001b[1;31m---------------------------------------------------------------------------\u001b[0m",
      "\u001b[1;31mAssertionError\u001b[0m                            Traceback (most recent call last)",
      "Cell \u001b[1;32mIn[1], line 21\u001b[0m\n\u001b[0;32m     18\u001b[0m         \u001b[38;5;28;01mexcept\u001b[39;00m:\n\u001b[0;32m     19\u001b[0m             \u001b[38;5;28;01mpass\u001b[39;00m\n\u001b[1;32m---> 21\u001b[0m \u001b[38;5;28;01massert\u001b[39;00m(shutil\u001b[38;5;241m.\u001b[39mwhich(\u001b[38;5;124m\"\u001b[39m\u001b[38;5;124mcbc\u001b[39m\u001b[38;5;124m\"\u001b[39m) \u001b[38;5;129;01mor\u001b[39;00m os\u001b[38;5;241m.\u001b[39mpath\u001b[38;5;241m.\u001b[39misfile(\u001b[38;5;124m\"\u001b[39m\u001b[38;5;124mcbc\u001b[39m\u001b[38;5;124m\"\u001b[39m))\n\u001b[0;32m     23\u001b[0m \u001b[38;5;28;01mfrom\u001b[39;00m \u001b[38;5;21;01mpyomo\u001b[39;00m\u001b[38;5;21;01m.\u001b[39;00m\u001b[38;5;21;01menviron\u001b[39;00m \u001b[38;5;28;01mimport\u001b[39;00m \u001b[38;5;241m*\u001b[39m\n",
      "\u001b[1;31mAssertionError\u001b[0m: "
     ]
    },
    {
     "name": "stdout",
     "output_type": "stream",
     "text": [
      "Retrieving notices: done\n",
      "Channels:\n",
      " - conda-forge\n",
      " - defaults\n",
      "Platform: win-64\n",
      "Collecting package metadata (repodata.json): ...working... done\n",
      "Solving environment: ...working... failed\n"
     ]
    },
    {
     "name": "stderr",
     "output_type": "stream",
     "text": [
      "\n",
      "LibMambaUnsatisfiableError: Encountered problems while solving:\n",
      "  - nothing provides coin-or-cbc 2.10.5.* needed by coincbc-2.10.5-0_metapackage\n",
      "\n",
      "Could not solve for environment specs\n",
      "The following packages are incompatible\n",
      "└─ coincbc is not installable because there are no viable options\n",
      "   ├─ coincbc 2.10.5 would require\n",
      "   │  └─ coin-or-cbc 2.10.5.* , which does not exist (perhaps a missing channel);\n",
      "   ├─ coincbc 2.10.7 would require\n",
      "   │  └─ coin-or-cbc 2.10.7.* , which does not exist (perhaps a missing channel);\n",
      "   ├─ coincbc 2.10.8 would require\n",
      "   │  └─ coin-or-cbc 2.10.8.* , which does not exist (perhaps a missing channel);\n",
      "   ├─ coincbc 2.10.10 would require\n",
      "   │  └─ coin-or-cbc 2.10.10.* , which does not exist (perhaps a missing channel);\n",
      "   ├─ coincbc 2.10.11 would require\n",
      "   │  └─ coin-or-cbc 2.10.11.* , which does not exist (perhaps a missing channel);\n",
      "   ├─ coincbc 2.10.12 would require\n",
      "   │  └─ coin-or-cbc 2.10.12.* , which does not exist (perhaps a missing channel);\n",
      "   └─ coincbc 2.10.9 would require\n",
      "      └─ coin-or-cbc 2.10.9.* , which does not exist (perhaps a missing channel).\n",
      "\n"
     ]
    }
   ],
   "source": [
    "import matplotlib.pyplot as plt\n",
    "import numpy as np\n",
    "\n",
    "import shutil\n",
    "import sys\n",
    "import os.path\n",
    "\n",
    "if not shutil.which(\"pyomo\"):\n",
    "    !pip install -q pyomo\n",
    "    assert(shutil.which(\"pyomo\"))\n",
    "\n",
    "if not (shutil.which(\"cbc\") or os.path.isfile(\"cbc\")):\n",
    "    if \"google.colab\" in sys.modules:\n",
    "        !apt-get install -y -qq coinor-cbc\n",
    "    else:\n",
    "        try:\n",
    "            !conda install -c conda-forge coincbc \n",
    "        except:\n",
    "            pass\n",
    "\n",
    "assert(shutil.which(\"cbc\") or os.path.isfile(\"cbc\"))\n",
    "\n",
    "from pyomo.environ import *"
   ]
  },
  {
   "cell_type": "code",
   "execution_count": null,
   "metadata": {},
   "outputs": [],
   "source": [
    "model = ConcreteModel()\n",
    "\n",
    "# declare decision variables\n",
    "model.p = Var(domain=NonNegativeReals)\n",
    "model.q = Var(domain=NonNegativeReals)\n",
    "model.m = \n",
    "\n",
    "# declare objective\n",
    "model.profit = Objective(\n",
    "    expr = 150*model.p + 200*model.__qualname__,\n",
    "    sense = maximize)\n",
    "\n",
    "# declare constraints\n",
    "model.m = Constraint(expr = model.p * 2 + model.q * 4 <= 60)\n",
    "model.n = Constraint(expr = model.p * 4 + model.q * 3 <= 80)\n",
    "model.demand = Constraint(expr = model.p <= 60)\n",
    "model.laborA = Constraint(expr = model.x <= 80)\n",
    "model.laborB = Constraint(expr = 2*model.x <= 100)\n",
    "\n",
    "# solve\n",
    "SolverFactory('cbc').solve(model).write()"
   ]
  }
 ],
 "metadata": {
  "kernelspec": {
   "display_name": "Python 3",
   "language": "python",
   "name": "python3"
  },
  "language_info": {
   "codemirror_mode": {
    "name": "ipython",
    "version": 3
   },
   "file_extension": ".py",
   "mimetype": "text/x-python",
   "name": "python",
   "nbconvert_exporter": "python",
   "pygments_lexer": "ipython3",
   "version": "3.12.4"
  }
 },
 "nbformat": 4,
 "nbformat_minor": 2
}
