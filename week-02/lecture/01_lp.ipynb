{
 "cells": [
  {
   "cell_type": "markdown",
   "id": "80b1ba1f05cd62fe",
   "metadata": {
    "collapsed": false
   },
   "source": [
    "# Linear Programming"
   ]
  },
  {
   "cell_type": "code",
   "execution_count": 1,
   "id": "17b2c7035b1c07d9",
   "metadata": {
    "ExecuteTime": {
     "end_time": "2024-02-05T06:51:07.733197Z",
     "start_time": "2024-02-05T06:51:07.696473Z"
    },
    "collapsed": false
   },
   "outputs": [
    {
     "name": "stdout",
     "output_type": "stream",
     "text": [
      "WARNING: Could not locate the 'ipopt' executable, which is required for solver\n",
      "ipopt\n"
     ]
    },
    {
     "ename": "ApplicationError",
     "evalue": "No executable found for solver 'ipopt'",
     "output_type": "error",
     "traceback": [
      "\u001b[1;31m---------------------------------------------------------------------------\u001b[0m",
      "\u001b[1;31mApplicationError\u001b[0m                          Traceback (most recent call last)",
      "Cell \u001b[1;32mIn[1], line 25\u001b[0m\n\u001b[0;32m     23\u001b[0m \u001b[38;5;66;03m# Define a solver and solve the optimization problem\u001b[39;00m\n\u001b[0;32m     24\u001b[0m solver \u001b[38;5;241m=\u001b[39m pyo\u001b[38;5;241m.\u001b[39mSolverFactory(\u001b[38;5;124m'\u001b[39m\u001b[38;5;124mipopt\u001b[39m\u001b[38;5;124m'\u001b[39m)\n\u001b[1;32m---> 25\u001b[0m result \u001b[38;5;241m=\u001b[39m \u001b[43msolver\u001b[49m\u001b[38;5;241;43m.\u001b[39;49m\u001b[43msolve\u001b[49m\u001b[43m(\u001b[49m\u001b[43mmodel\u001b[49m\u001b[43m)\u001b[49m\n",
      "File \u001b[1;32mc:\\Users\\jgcc1\\AppData\\Local\\Programs\\Python\\Python312\\Lib\\site-packages\\pyomo\\opt\\base\\solvers.py:534\u001b[0m, in \u001b[0;36mOptSolver.solve\u001b[1;34m(self, *args, **kwds)\u001b[0m\n\u001b[0;32m    531\u001b[0m \u001b[38;5;28;01mdef\u001b[39;00m \u001b[38;5;21msolve\u001b[39m(\u001b[38;5;28mself\u001b[39m, \u001b[38;5;241m*\u001b[39margs, \u001b[38;5;241m*\u001b[39m\u001b[38;5;241m*\u001b[39mkwds):\n\u001b[0;32m    532\u001b[0m \u001b[38;5;250m    \u001b[39m\u001b[38;5;124;03m\"\"\"Solve the problem\"\"\"\u001b[39;00m\n\u001b[1;32m--> 534\u001b[0m     \u001b[38;5;28;43mself\u001b[39;49m\u001b[38;5;241;43m.\u001b[39;49m\u001b[43mavailable\u001b[49m\u001b[43m(\u001b[49m\u001b[43mexception_flag\u001b[49m\u001b[38;5;241;43m=\u001b[39;49m\u001b[38;5;28;43;01mTrue\u001b[39;49;00m\u001b[43m)\u001b[49m\n\u001b[0;32m    535\u001b[0m     \u001b[38;5;66;03m#\u001b[39;00m\n\u001b[0;32m    536\u001b[0m     \u001b[38;5;66;03m# If the inputs are models, then validate that they have been\u001b[39;00m\n\u001b[0;32m    537\u001b[0m     \u001b[38;5;66;03m# constructed! Collect suffix names to try and import from solution.\u001b[39;00m\n\u001b[0;32m    538\u001b[0m     \u001b[38;5;66;03m#\u001b[39;00m\n\u001b[0;32m    539\u001b[0m     \u001b[38;5;28;01mfrom\u001b[39;00m \u001b[38;5;21;01mpyomo\u001b[39;00m\u001b[38;5;21;01m.\u001b[39;00m\u001b[38;5;21;01mcore\u001b[39;00m\u001b[38;5;21;01m.\u001b[39;00m\u001b[38;5;21;01mbase\u001b[39;00m\u001b[38;5;21;01m.\u001b[39;00m\u001b[38;5;21;01mblock\u001b[39;00m \u001b[38;5;28;01mimport\u001b[39;00m BlockData\n",
      "File \u001b[1;32mc:\\Users\\jgcc1\\AppData\\Local\\Programs\\Python\\Python312\\Lib\\site-packages\\pyomo\\opt\\solver\\shellcmd.py:140\u001b[0m, in \u001b[0;36mSystemCallSolver.available\u001b[1;34m(self, exception_flag)\u001b[0m\n\u001b[0;32m    138\u001b[0m     \u001b[38;5;28;01mif\u001b[39;00m exception_flag:\n\u001b[0;32m    139\u001b[0m         msg \u001b[38;5;241m=\u001b[39m \u001b[38;5;124m\"\u001b[39m\u001b[38;5;124mNo executable found for solver \u001b[39m\u001b[38;5;124m'\u001b[39m\u001b[38;5;132;01m%s\u001b[39;00m\u001b[38;5;124m'\u001b[39m\u001b[38;5;124m\"\u001b[39m\n\u001b[1;32m--> 140\u001b[0m         \u001b[38;5;28;01mraise\u001b[39;00m ApplicationError(msg \u001b[38;5;241m%\u001b[39m \u001b[38;5;28mself\u001b[39m\u001b[38;5;241m.\u001b[39mname)\n\u001b[0;32m    141\u001b[0m     \u001b[38;5;28;01mreturn\u001b[39;00m \u001b[38;5;28;01mFalse\u001b[39;00m\n\u001b[0;32m    142\u001b[0m \u001b[38;5;28;01mreturn\u001b[39;00m \u001b[38;5;28;01mTrue\u001b[39;00m\n",
      "\u001b[1;31mApplicationError\u001b[0m: No executable found for solver 'ipopt'"
     ]
    }
   ],
   "source": [
    "import pyomo.environ as pyo\n",
    "\n",
    "# Initialize an optimization problem\n",
    "model = pyo.ConcreteModel()\n",
    "\n",
    "# Define non-negative real variables\n",
    "model.x_aw = pyo.Var(domain=pyo.NonNegativeReals)\n",
    "model.x_af = pyo.Var(domain=pyo.NonNegativeReals)\n",
    "model.x_bw = pyo.Var(domain=pyo.NonNegativeReals)\n",
    "model.x_bf = pyo.Var(domain=pyo.NonNegativeReals)\n",
    "\n",
    "# Set the objective function\n",
    "obj_fun = 2 * model.x_aw + model.x_af + model.x_bw + 3 * model.x_bf\n",
    "model.obj = pyo.Objective(\n",
    "    expr=obj_fun,\n",
    "    sense=pyo.maximize\n",
    ")\n",
    "\n",
    "# Set the constraints\n",
    "model.constraint_a = pyo.Constraint(expr=model.x_aw + model.x_af <= 10)\n",
    "model.constraint_b = pyo.Constraint(expr=model.x_bw + model.x_bf <= 8)\n",
    "\n",
    "# Define a solver and solve the optimization problem\n",
    "solver = pyo.SolverFactory('ipopt')\n",
    "result = solver.solve(model)"
   ]
  },
  {
   "cell_type": "code",
   "execution_count": 3,
   "id": "6e2afa9dc7ae6979",
   "metadata": {
    "ExecuteTime": {
     "end_time": "2024-02-05T06:51:07.927690Z",
     "start_time": "2024-02-05T06:51:07.925504Z"
    },
    "collapsed": false
   },
   "outputs": [
    {
     "name": "stdout",
     "output_type": "stream",
     "text": [
      "obj : Size=1, Index=None, Active=True\n",
      "    Key  : Active : Value\n",
      "    None :   True : 44.00000045997552\n"
     ]
    }
   ],
   "source": [
    "# Display the result of the objective function\n",
    "model.obj.display()\n",
    "\n",
    "# obj : Size=1, Index=None, Active=True\n",
    "#     Key  : Active : Value\n",
    "#     None :   True : 44.000000459975524"
   ]
  },
  {
   "cell_type": "code",
   "execution_count": 4,
   "id": "c6bc64b62939b041",
   "metadata": {
    "ExecuteTime": {
     "end_time": "2024-02-05T06:51:08.686040Z",
     "start_time": "2024-02-05T06:51:08.683090Z"
    },
    "collapsed": false
   },
   "outputs": [
    {
     "name": "stdout",
     "output_type": "stream",
     "text": [
      "x_aw = 10.00\n",
      "x_af = -0.00\n",
      "x_bw = -0.00\n",
      "x_bf = 8.00\n"
     ]
    }
   ],
   "source": [
    "# Retrieve the values of the decision variables\n",
    "print(f'x_aw = {pyo.value(model.x_aw):.2f}')\n",
    "print(f'x_af = {pyo.value(model.x_af):.2f}')\n",
    "print(f'x_bw = {pyo.value(model.x_bw):.2f}')\n",
    "print(f'x_bf = {pyo.value(model.x_bf):.2f}')\n",
    "\n",
    "# x_aw = 10.00\n",
    "# x_af = -0.00\n",
    "# x_bw = -0.00\n",
    "# x_bf = 8.00"
   ]
  },
  {
   "cell_type": "code",
   "execution_count": null,
   "id": "d192f89c9eebd377",
   "metadata": {
    "collapsed": false
   },
   "outputs": [],
   "source": []
  },
  {
   "cell_type": "code",
   "execution_count": null,
   "id": "816caad6",
   "metadata": {},
   "outputs": [],
   "source": []
  }
 ],
 "metadata": {
  "kernelspec": {
   "display_name": "Python 3",
   "language": "python",
   "name": "python3"
  },
  "language_info": {
   "codemirror_mode": {
    "name": "ipython",
    "version": 3
   },
   "file_extension": ".py",
   "mimetype": "text/x-python",
   "name": "python",
   "nbconvert_exporter": "python",
   "pygments_lexer": "ipython3",
   "version": "3.12.4"
  }
 },
 "nbformat": 4,
 "nbformat_minor": 5
}
