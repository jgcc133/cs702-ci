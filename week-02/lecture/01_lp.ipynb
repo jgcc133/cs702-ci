{
 "cells": [
  {
   "cell_type": "markdown",
   "id": "80b1ba1f05cd62fe",
   "metadata": {
    "collapsed": false
   },
   "source": [
    "# Linear Programming"
   ]
  },
  {
   "cell_type": "code",
   "execution_count": 2,
   "id": "17b2c7035b1c07d9",
   "metadata": {
    "ExecuteTime": {
     "end_time": "2024-02-05T06:51:07.733197Z",
     "start_time": "2024-02-05T06:51:07.696473Z"
    },
    "collapsed": false
   },
   "outputs": [],
   "source": [
    "import pyomo.environ as pyo\n",
    "\n",
    "# Initialize an optimization problem\n",
    "model = pyo.ConcreteModel()\n",
    "\n",
    "# Define non-negative real variables\n",
    "model.x_aw = pyo.Var(domain=pyo.NonNegativeReals)\n",
    "model.x_af = pyo.Var(domain=pyo.NonNegativeReals)\n",
    "model.x_bw = pyo.Var(domain=pyo.NonNegativeReals)\n",
    "model.x_bf = pyo.Var(domain=pyo.NonNegativeReals)\n",
    "\n",
    "# Set the objective function\n",
    "obj_fun = 2 * model.x_aw + model.x_af + model.x_bw + 3 * model.x_bf\n",
    "model.obj = pyo.Objective(\n",
    "    expr=obj_fun,\n",
    "    sense=pyo.maximize\n",
    ")\n",
    "\n",
    "# Set the constraints\n",
    "model.constraint_a = pyo.Constraint(expr=model.x_aw + model.x_af <= 10)\n",
    "model.constraint_b = pyo.Constraint(expr=model.x_bw + model.x_bf <= 8)\n",
    "\n",
    "# Define a solver and solve the optimization problem\n",
    "solver = pyo.SolverFactory('ipopt')\n",
    "result = solver.solve(model)"
   ]
  },
  {
   "cell_type": "code",
   "execution_count": 3,
   "id": "6e2afa9dc7ae6979",
   "metadata": {
    "ExecuteTime": {
     "end_time": "2024-02-05T06:51:07.927690Z",
     "start_time": "2024-02-05T06:51:07.925504Z"
    },
    "collapsed": false
   },
   "outputs": [
    {
     "name": "stdout",
     "output_type": "stream",
     "text": [
      "obj : Size=1, Index=None, Active=True\n",
      "    Key  : Active : Value\n",
      "    None :   True : 44.00000045997552\n"
     ]
    }
   ],
   "source": [
    "# Display the result of the objective function\n",
    "model.obj.display()\n",
    "\n",
    "# obj : Size=1, Index=None, Active=True\n",
    "#     Key  : Active : Value\n",
    "#     None :   True : 44.000000459975524"
   ]
  },
  {
   "cell_type": "code",
   "execution_count": 4,
   "id": "c6bc64b62939b041",
   "metadata": {
    "ExecuteTime": {
     "end_time": "2024-02-05T06:51:08.686040Z",
     "start_time": "2024-02-05T06:51:08.683090Z"
    },
    "collapsed": false
   },
   "outputs": [
    {
     "name": "stdout",
     "output_type": "stream",
     "text": [
      "x_aw = 10.00\n",
      "x_af = -0.00\n",
      "x_bw = -0.00\n",
      "x_bf = 8.00\n"
     ]
    }
   ],
   "source": [
    "# Retrieve the values of the decision variables\n",
    "print(f'x_aw = {pyo.value(model.x_aw):.2f}')\n",
    "print(f'x_af = {pyo.value(model.x_af):.2f}')\n",
    "print(f'x_bw = {pyo.value(model.x_bw):.2f}')\n",
    "print(f'x_bf = {pyo.value(model.x_bf):.2f}')\n",
    "\n",
    "# x_aw = 10.00\n",
    "# x_af = -0.00\n",
    "# x_bw = -0.00\n",
    "# x_bf = 8.00"
   ]
  },
  {
   "cell_type": "code",
   "execution_count": null,
   "id": "d192f89c9eebd377",
   "metadata": {
    "collapsed": false
   },
   "outputs": [],
   "source": []
  },
  {
   "cell_type": "code",
   "execution_count": null,
   "id": "816caad6",
   "metadata": {},
   "outputs": [],
   "source": []
  }
 ],
 "metadata": {
  "kernelspec": {
   "display_name": "base",
   "language": "python",
   "name": "python3"
  },
  "language_info": {
   "codemirror_mode": {
    "name": "ipython",
    "version": 3
   },
   "file_extension": ".py",
   "mimetype": "text/x-python",
   "name": "python",
   "nbconvert_exporter": "python",
   "pygments_lexer": "ipython3",
   "version": "3.12.7"
  }
 },
 "nbformat": 4,
 "nbformat_minor": 5
}
