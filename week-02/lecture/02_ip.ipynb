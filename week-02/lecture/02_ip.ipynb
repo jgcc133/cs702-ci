{
 "cells": [
  {
   "cell_type": "markdown",
   "source": [
    "# Integer Programming"
   ],
   "metadata": {
    "collapsed": false
   },
   "id": "73d7e9f51dd0dab3"
  },
  {
   "cell_type": "code",
   "outputs": [],
   "source": [
    "import pyomo.environ as pyo\n",
    "\n",
    "from itertools import product\n",
    "\n",
    "users = ['u0', 'u1']\n",
    "products = ['p0', 'p1', 'p2']\n",
    "\n",
    "ups = list(product(users, products))\n",
    "\n",
    "costs = {(u, p): 4  if p == 'p0' else 6 for u, p in ups}\n",
    "profits = {(u, p): 6 if u == 'u0' else 4 for u, p in ups}\n",
    "\n",
    "budget = 20\n",
    "max_assignment = 2\n",
    "qs = {p: 1 for p in products}"
   ],
   "metadata": {
    "collapsed": false,
    "ExecuteTime": {
     "end_time": "2024-02-05T07:00:21.587249Z",
     "start_time": "2024-02-05T07:00:21.579555Z"
    }
   },
   "id": "b750dc76e4708f5c",
   "execution_count": 15
  },
  {
   "cell_type": "code",
   "outputs": [
    {
     "data": {
      "text/plain": "[('u0', 'p0'),\n ('u0', 'p1'),\n ('u0', 'p2'),\n ('u1', 'p0'),\n ('u1', 'p1'),\n ('u1', 'p2')]"
     },
     "execution_count": 16,
     "metadata": {},
     "output_type": "execute_result"
    }
   ],
   "source": [
    "ups"
   ],
   "metadata": {
    "collapsed": false,
    "ExecuteTime": {
     "end_time": "2024-02-05T07:00:21.767719Z",
     "start_time": "2024-02-05T07:00:21.761483Z"
    }
   },
   "id": "3d5bfb648d70095b",
   "execution_count": 16
  },
  {
   "cell_type": "code",
   "outputs": [],
   "source": [
    "model = pyo.ConcreteModel('recommendation')\n",
    "model.x = pyo.Var(users, products, domain=pyo.Binary)\n",
    "\n",
    "# budget constraint\n",
    "def budget_rule(mdl):\n",
    "    return sum(costs[u, p] * mdl.x[u, p] for u, p in ups) <= budget\n",
    "model.budget = pyo.Constraint(rule=budget_rule)\n",
    "\n",
    "# assignment_rule:\n",
    "def assignment_rule(mdl, u):\n",
    "    return sum(mdl.x[u, p] for p in products) <= max_assignment\n",
    "model.assignment = pyo.Constraint(users, rule=assignment_rule)\n",
    "\n",
    "# balance rule. We want at least qs[p] person to view the product p.\n",
    "def balance_rule(mdl, p):\n",
    "    return sum(profits[u, p] * mdl.x[u, p] for u in users) >= qs[p]\n",
    "model.balance = pyo.Constraint(products, rule=balance_rule)\n",
    "\n",
    "# Objective function\n",
    "def objective_func(mdl):\n",
    "    return sum(profits[u, p] * mdl.x[u, p] for u, p in ups)\n",
    "model.objective = pyo.Objective(rule=objective_func, sense=pyo.maximize)"
   ],
   "metadata": {
    "collapsed": false,
    "ExecuteTime": {
     "end_time": "2024-02-05T07:06:09.487903Z",
     "start_time": "2024-02-05T07:06:09.485606Z"
    }
   },
   "id": "d12a34f3b21a51be",
   "execution_count": 19
  },
  {
   "cell_type": "code",
   "outputs": [
    {
     "name": "stdout",
     "output_type": "stream",
     "text": [
      "x : Size=6, Index=x_index\n",
      "    Key          : Lower : Value : Upper : Fixed : Stale : Domain\n",
      "    ('u0', 'p0') :     0 :   1.0 :     1 : False : False : Binary\n",
      "    ('u0', 'p1') :     0 :   1.0 :     1 : False : False : Binary\n",
      "    ('u0', 'p2') :     0 :   0.0 :     1 : False : False : Binary\n",
      "    ('u1', 'p0') :     0 :   1.0 :     1 : False : False : Binary\n",
      "    ('u1', 'p1') :     0 :   0.0 :     1 : False : False : Binary\n",
      "    ('u1', 'p2') :     0 :   1.0 :     1 : False : False : Binary\n"
     ]
    }
   ],
   "source": [
    "solver = pyo.SolverFactory(\"glpk\")\n",
    "res = solver.solve(model)\n",
    "\n",
    "pyo.assert_optimal_termination(res)\n",
    "\n",
    "model.x.display()\n"
   ],
   "metadata": {
    "collapsed": false,
    "ExecuteTime": {
     "end_time": "2024-02-05T07:06:09.819083Z",
     "start_time": "2024-02-05T07:06:09.786592Z"
    }
   },
   "id": "54d1fc4eb597448d",
   "execution_count": 20
  },
  {
   "cell_type": "code",
   "outputs": [],
   "source": [],
   "metadata": {
    "collapsed": false
   },
   "id": "3f24ba572a8fd79"
  }
 ],
 "metadata": {
  "kernelspec": {
   "display_name": "Python 3",
   "language": "python",
   "name": "python3"
  },
  "language_info": {
   "codemirror_mode": {
    "name": "ipython",
    "version": 2
   },
   "file_extension": ".py",
   "mimetype": "text/x-python",
   "name": "python",
   "nbconvert_exporter": "python",
   "pygments_lexer": "ipython2",
   "version": "2.7.6"
  }
 },
 "nbformat": 4,
 "nbformat_minor": 5
}
