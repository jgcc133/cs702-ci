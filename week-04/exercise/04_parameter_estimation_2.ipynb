{
 "cells": [
  {
   "cell_type": "code",
   "execution_count": 1,
   "id": "initial_id",
   "metadata": {
    "collapsed": true,
    "ExecuteTime": {
     "end_time": "2024-01-22T11:39:01.110140Z",
     "start_time": "2024-01-22T11:39:00.529631Z"
    }
   },
   "outputs": [],
   "source": [
    "import numpy as np\n",
    "from scipy.stats import multinomial"
   ]
  },
  {
   "cell_type": "code",
   "outputs": [],
   "source": [
    "activities = ['cycling', 'picnic', 'climbing', 'movie']\n",
    "\n",
    "# Create the transition matrices\n",
    "T_rain = np.array([[0.15, 0.05, 0.40, 0.40],  # Cycling\n",
    "                   [0.05, 0.15, 0.40, 0.40],  # Picnic\n",
    "                   [0.05, 0.05, 0.8, 0.1],  # Climbing\n",
    "                   [0.05, 0.05, 0.1, 0.8]])  # Movie\n",
    "\n",
    "T_sunny = np.array([[0.70, 0.20, 0.05, 0.05],  # Cycling\n",
    "                    [0.20, 0.70, 0.05, 0.05],  # Picnic\n",
    "                    [0.40, 0.40, 0.10, 0.10],  # Climbing\n",
    "                    [0.40, 0.40, 0.10, 0.10]])  # Movie\n",
    "\n",
    "assert np.allclose(T_rain.sum(axis=1), 1)\n",
    "assert np.allclose(T_sunny.sum(axis=1), 1)"
   ],
   "metadata": {
    "collapsed": false,
    "ExecuteTime": {
     "end_time": "2024-01-22T11:39:01.627643Z",
     "start_time": "2024-01-22T11:39:01.624047Z"
    }
   },
   "id": "9aceb6e2d8d16f75",
   "execution_count": 2
  },
  {
   "cell_type": "code",
   "outputs": [],
   "source": [
    "user_utility = np.array([[0.1, 0.1, 0.7, 0.8],\n",
    "                         [0.8, 0.8, 0.2, 0.1]])"
   ],
   "metadata": {
    "collapsed": false,
    "ExecuteTime": {
     "end_time": "2024-01-22T11:39:02.339601Z",
     "start_time": "2024-01-22T11:39:02.336078Z"
    }
   },
   "id": "f96757b91692dd37",
   "execution_count": 3
  },
  {
   "cell_type": "code",
   "outputs": [],
   "source": [
    "# Create the synthetic data for rainy days\n",
    "o0_rain = multinomial.rvs(1, T_rain[0], size=100).argmax(axis=1)\n",
    "o1_rain = multinomial.rvs(1, T_rain[1], size=100).argmax(axis=1)\n",
    "o2_rain = multinomial.rvs(1, T_rain[2], size=100).argmax(axis=1)\n",
    "o3_rain = multinomial.rvs(1, T_rain[3], size=100).argmax(axis=1)\n",
    "\n",
    "x_rain = np.concatenate([o0_rain, o1_rain, o2_rain, o3_rain])\n",
    "weather_rain = np.zeros(400)\n",
    "\n",
    "actions_rain = np.concatenate([\n",
    "    np.zeros(100),\n",
    "    np.ones(100),\n",
    "    np.ones(100) * 2,\n",
    "    np.ones(100) * 3\n",
    "]).astype(int)\n",
    "\n",
    "# Create the synthetic data for sunny days\n",
    "o0_sunny = multinomial.rvs(1, T_sunny[0], size=100).argmax(axis=1)\n",
    "o1_sunny = multinomial.rvs(1, T_sunny[1], size=100).argmax(axis=1)\n",
    "o2_sunny = multinomial.rvs(1, T_sunny[2], size=100).argmax(axis=1)\n",
    "o3_sunny = multinomial.rvs(1, T_sunny[3], size=100).argmax(axis=1)\n",
    "\n",
    "actions_sunny = np.concatenate([\n",
    "    np.zeros(100),\n",
    "    np.ones(100),\n",
    "    np.ones(100) * 2,\n",
    "    np.ones(100) * 3\n",
    "]).astype(int)\n",
    "\n",
    "x_sunny = np.concatenate([o0_sunny, o1_sunny, o2_sunny, o3_sunny])\n",
    "weather_sunny = np.ones(400)\n",
    "\n",
    "x = np.concatenate([x_rain, x_sunny]).astype(int)\n",
    "weather = np.concatenate([weather_rain, weather_sunny]).astype(int)\n",
    "actions = np.concatenate([actions_rain, actions_sunny]).astype(int)"
   ],
   "metadata": {
    "collapsed": false,
    "ExecuteTime": {
     "end_time": "2024-01-22T11:39:03.099808Z",
     "start_time": "2024-01-22T11:39:03.095708Z"
    }
   },
   "id": "22b916ea56bd5a78",
   "execution_count": 4
  },
  {
   "cell_type": "code",
   "outputs": [],
   "source": [
    "def response(U: np.ndarray, weather: int, activity: int) -> int:\n",
    "    u_prob = U[weather, activity]\n",
    "    if np.random.rand() < u_prob:\n",
    "        return 1\n",
    "    else:\n",
    "        return 0\n",
    "\n",
    "\n",
    "r_rain = np.array([response(user_utility, 0, activity) for activity in x_rain])\n",
    "r_sunny = np.array([response(user_utility, 1, activity) for activity in x_sunny])\n",
    "r = np.concatenate([r_rain, r_sunny])"
   ],
   "metadata": {
    "collapsed": false,
    "ExecuteTime": {
     "end_time": "2024-01-22T11:39:03.967755Z",
     "start_time": "2024-01-22T11:39:03.964739Z"
    }
   },
   "id": "a3ba79673d7605db",
   "execution_count": 5
  },
  {
   "cell_type": "markdown",
   "source": [
    "# 1. Batch Estimation"
   ],
   "metadata": {
    "collapsed": false
   },
   "id": "deb3800493c464e4"
  },
  {
   "cell_type": "code",
   "outputs": [
    {
     "name": "stderr",
     "output_type": "stream",
     "text": [
      "sample: 100%|██████████| 3000/3000 [00:01<00:00, 1598.22it/s, 7 steps of size 4.71e-01. acc. prob=0.90]\n"
     ]
    },
    {
     "name": "stdout",
     "output_type": "stream",
     "text": [
      "\n",
      "                  mean       std    median      5.0%     95.0%     n_eff     r_hat\n",
      "    p[0,0,0]      0.16      0.04      0.16      0.11      0.22   3257.30      1.00\n",
      "    p[0,0,1]      0.08      0.03      0.07      0.04      0.12   3310.87      1.00\n",
      "    p[0,0,2]      0.34      0.05      0.34      0.26      0.41   3360.48      1.00\n",
      "    p[0,0,3]      0.42      0.05      0.42      0.34      0.50   3847.00      1.00\n",
      "    p[0,1,0]      0.05      0.02      0.04      0.01      0.08   2895.75      1.00\n",
      "    p[0,1,1]      0.15      0.03      0.15      0.09      0.21   3524.14      1.00\n",
      "    p[0,1,2]      0.35      0.05      0.35      0.28      0.43   3450.34      1.00\n",
      "    p[0,1,3]      0.45      0.05      0.45      0.37      0.53   3375.54      1.00\n",
      "    p[0,2,0]      0.05      0.02      0.05      0.02      0.08   2846.07      1.00\n",
      "    p[0,2,1]      0.05      0.02      0.05      0.02      0.08   3231.80      1.00\n",
      "    p[0,2,2]      0.80      0.04      0.80      0.73      0.86   3121.99      1.00\n",
      "    p[0,2,3]      0.11      0.03      0.10      0.06      0.15   3394.95      1.00\n",
      "    p[0,3,0]      0.06      0.02      0.05      0.02      0.09   2432.74      1.00\n",
      "    p[0,3,1]      0.04      0.02      0.04      0.01      0.07   3408.60      1.00\n",
      "    p[0,3,2]      0.10      0.03      0.09      0.05      0.14   1833.51      1.00\n",
      "    p[0,3,3]      0.81      0.04      0.81      0.75      0.87   2091.73      1.00\n",
      "    p[1,0,0]      0.68      0.05      0.68      0.61      0.76   2627.81      1.00\n",
      "    p[1,0,1]      0.19      0.04      0.19      0.13      0.26   2461.91      1.00\n",
      "    p[1,0,2]      0.05      0.02      0.05      0.02      0.08   2199.58      1.00\n",
      "    p[1,0,3]      0.08      0.03      0.07      0.03      0.12   2392.04      1.00\n",
      "    p[1,1,0]      0.25      0.04      0.25      0.18      0.32   3361.66      1.00\n",
      "    p[1,1,1]      0.68      0.04      0.68      0.61      0.75   3175.21      1.00\n",
      "    p[1,1,2]      0.03      0.02      0.03      0.01      0.05   2796.21      1.00\n",
      "    p[1,1,3]      0.04      0.02      0.04      0.01      0.07   2374.27      1.00\n",
      "    p[1,2,0]      0.37      0.05      0.37      0.30      0.46   2894.15      1.00\n",
      "    p[1,2,1]      0.36      0.05      0.35      0.28      0.43   3088.55      1.00\n",
      "    p[1,2,2]      0.11      0.03      0.10      0.06      0.15   3013.73      1.00\n",
      "    p[1,2,3]      0.16      0.04      0.16      0.11      0.22   3029.46      1.00\n",
      "    p[1,3,0]      0.34      0.05      0.34      0.26      0.41   3527.26      1.00\n",
      "    p[1,3,1]      0.49      0.05      0.49      0.41      0.56   3339.22      1.00\n",
      "    p[1,3,2]      0.08      0.03      0.07      0.04      0.11   2558.26      1.00\n",
      "    p[1,3,3]      0.10      0.03      0.09      0.05      0.14   2804.45      1.00\n",
      "utility[0,0]      0.11      0.06      0.09      0.02      0.19   3544.53      1.00\n",
      "utility[0,1]      0.11      0.06      0.10      0.02      0.19   2987.60      1.00\n",
      "utility[0,2]      0.69      0.04      0.69      0.63      0.74   3872.15      1.00\n",
      "utility[0,3]      0.81      0.03      0.81      0.76      0.86   3215.22      1.00\n",
      "utility[1,0]      0.80      0.03      0.80      0.76      0.86   2766.79      1.00\n",
      "utility[1,1]      0.78      0.03      0.78      0.73      0.83   3016.86      1.00\n",
      "utility[1,2]      0.35      0.10      0.34      0.20      0.52   3348.57      1.00\n",
      "utility[1,3]      0.12      0.05      0.11      0.03      0.20   3049.31      1.00\n",
      "\n",
      "Number of divergences: 0\n"
     ]
    }
   ],
   "source": [
    "import jax.numpy as jnp\n",
    "import numpyro\n",
    "import numpyro.distributions as dist\n",
    "from jax import random\n",
    "from numpyro.infer import MCMC, NUTS, Predictive\n",
    "\n",
    "rng_key = random.PRNGKey(12345)\n",
    "\n",
    "\n",
    "def model(weather, action, x=None, r=None):\n",
    "    raise NotImplementedError(\"Implement this model\")\n",
    "\n",
    "\n",
    "kernel = NUTS(model)\n",
    "mcmc = MCMC(kernel, num_warmup=1000, num_samples=2000, thinning=1)\n",
    "rng_key, rng_key_ = random.split(rng_key, 2)\n",
    "mcmc.run(rng_key_, weather=weather, action=actions, x=x, r=r)\n",
    "mcmc.print_summary()"
   ],
   "metadata": {
    "collapsed": false,
    "ExecuteTime": {
     "end_time": "2024-01-22T11:39:10.466586Z",
     "start_time": "2024-01-22T11:39:05.990222Z"
    }
   },
   "id": "5236cee98736744c",
   "execution_count": 6
  },
  {
   "cell_type": "code",
   "outputs": [
    {
     "name": "stdout",
     "output_type": "stream",
     "text": [
      "EU for cycling on a rainy day: 0.6251339912414551\n",
      "EU for picnic on a rainy day: 0.6124654412269592\n",
      "EU for climbing on a rainy day: 0.675921618938446\n",
      "EU for movie on a rainy day: 0.7231666445732117\n",
      "Activity to recommend on a rainy day: movie\n",
      "EU for cycling on a sunny day: 0.728053867816925\n",
      "EU for picnic on a sunny day: 0.7407978773117065\n",
      "EU for climbing on a sunny day: 0.6686433553695679\n",
      "EU for movie on a sunny day: 0.6209140419960022\n",
      "Activity to recommend on a sunny day: picnic\n"
     ]
    }
   ],
   "source": [
    "predictive = Predictive(model, mcmc.get_samples(), return_sites=['x', 'utility'])\n",
    "\n",
    "\n",
    "def expected_utility(rng_key, predictive, weather: int, action: int):\n",
    "    pred = predictive(rng_key, weather=[weather], action=[action], x=None, r=None)\n",
    "    trans_prob = jnp.histogram(pred['x'], bins=4)[0] / 2000\n",
    "    util_est = jnp.mean(pred['utility'][:, weather, :], axis=0)\n",
    "    EU = jnp.dot(trans_prob, util_est)\n",
    "    return EU\n",
    "\n",
    "\n",
    "def list_utilities(rng_key, weather: int):\n",
    "    return [expected_utility(rng_key, predictive, weather, action) for action in range(4)]\n",
    "\n",
    "\n",
    "rng_key, rng_key_ = random.split(rng_key, 2)\n",
    "expected_utilities = list_utilities(rng_key_, 0)\n",
    "print(f'EU for cycling on a rainy day: {expected_utilities[0]}')\n",
    "print(f'EU for picnic on a rainy day: {expected_utilities[1]}')\n",
    "print(f'EU for climbing on a rainy day: {expected_utilities[2]}')\n",
    "print(f'EU for movie on a rainy day: {expected_utilities[3]}')\n",
    "\n",
    "activity_to_recommend = activities[np.argmax(expected_utilities)]\n",
    "print(f'Activity to recommend on a rainy day: {activity_to_recommend}')\n",
    "\n",
    "rng_key, rng_key_ = random.split(rng_key, 2)\n",
    "expected_utilities = list_utilities(rng_key_, 1)\n",
    "print(f'EU for cycling on a sunny day: {expected_utilities[0]}')\n",
    "print(f'EU for picnic on a sunny day: {expected_utilities[1]}')\n",
    "print(f'EU for climbing on a sunny day: {expected_utilities[2]}')\n",
    "print(f'EU for movie on a sunny day: {expected_utilities[3]}')\n",
    "\n",
    "activity_to_recommend = activities[np.argmax(expected_utilities)]\n",
    "print(f'Activity to recommend on a sunny day: {activity_to_recommend}')"
   ],
   "metadata": {
    "collapsed": false,
    "ExecuteTime": {
     "end_time": "2024-01-22T11:16:54.940123Z",
     "start_time": "2024-01-22T11:16:54.135751Z"
    }
   },
   "id": "c27043b41d2f8f82",
   "execution_count": 154
  },
  {
   "cell_type": "markdown",
   "source": [
    "# 2. Online Estimation"
   ],
   "metadata": {
    "collapsed": false
   },
   "id": "84495301be4ed2c1"
  },
  {
   "cell_type": "code",
   "outputs": [],
   "source": [
    "# Random weather generator\n",
    "def weather_generator():\n",
    "    \"\"\"Generate a random weather state\"\"\"\n",
    "    if np.random.rand() < 0.5:\n",
    "        return 0  # Rainy\n",
    "    else:\n",
    "        return 1  # Sunny"
   ],
   "metadata": {
    "collapsed": false,
    "ExecuteTime": {
     "end_time": "2024-01-22T11:45:59.725665Z",
     "start_time": "2024-01-22T11:45:59.719959Z"
    }
   },
   "id": "9a6d4323e6e0569c",
   "execution_count": 7
  },
  {
   "cell_type": "code",
   "outputs": [],
   "source": [],
   "metadata": {
    "collapsed": false
   },
   "id": "5e577bb24fcd12ef"
  }
 ],
 "metadata": {
  "kernelspec": {
   "display_name": "Python 3",
   "language": "python",
   "name": "python3"
  },
  "language_info": {
   "codemirror_mode": {
    "name": "ipython",
    "version": 2
   },
   "file_extension": ".py",
   "mimetype": "text/x-python",
   "name": "python",
   "nbconvert_exporter": "python",
   "pygments_lexer": "ipython2",
   "version": "2.7.6"
  }
 },
 "nbformat": 4,
 "nbformat_minor": 5
}
